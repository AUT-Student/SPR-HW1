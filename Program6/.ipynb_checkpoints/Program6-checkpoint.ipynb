{
 "cells": [
  {
   "cell_type": "markdown",
   "id": "better-knock",
   "metadata": {},
   "source": [
    "# Load Dataset"
   ]
  },
  {
   "cell_type": "code",
   "execution_count": 11,
   "id": "agreed-genealogy",
   "metadata": {},
   "outputs": [],
   "source": [
    "import pandas as pd\n",
    "data = pd.read_csv(\"first_half_logs.csv\", header=None,\\\n",
    "                   names=[\"timestamp\", \"tag_id\", \"x_pos\", \"y_pos\", \"heading\", \"direction\", \"energy\", \"speed\",\"total_distance\"])"
   ]
  },
  {
   "cell_type": "code",
   "execution_count": 64,
   "id": "industrial-archives",
   "metadata": {},
   "outputs": [
    {
     "data": {
      "text/html": [
       "<div>\n",
       "<style scoped>\n",
       "    .dataframe tbody tr th:only-of-type {\n",
       "        vertical-align: middle;\n",
       "    }\n",
       "\n",
       "    .dataframe tbody tr th {\n",
       "        vertical-align: top;\n",
       "    }\n",
       "\n",
       "    .dataframe thead th {\n",
       "        text-align: right;\n",
       "    }\n",
       "</style>\n",
       "<table border=\"1\" class=\"dataframe\">\n",
       "  <thead>\n",
       "    <tr style=\"text-align: right;\">\n",
       "      <th></th>\n",
       "      <th>x_pos</th>\n",
       "      <th>y_pos</th>\n",
       "    </tr>\n",
       "    <tr>\n",
       "      <th>tag_id</th>\n",
       "      <th></th>\n",
       "      <th></th>\n",
       "    </tr>\n",
       "  </thead>\n",
       "  <tbody>\n",
       "    <tr>\n",
       "      <th>1</th>\n",
       "      <td>60.999024</td>\n",
       "      <td>33.558495</td>\n",
       "    </tr>\n",
       "    <tr>\n",
       "      <th>2</th>\n",
       "      <td>33.297036</td>\n",
       "      <td>38.402794</td>\n",
       "    </tr>\n",
       "    <tr>\n",
       "      <th>3</th>\n",
       "      <td>37.952964</td>\n",
       "      <td>27.625767</td>\n",
       "    </tr>\n",
       "    <tr>\n",
       "      <th>5</th>\n",
       "      <td>43.985519</td>\n",
       "      <td>37.714688</td>\n",
       "    </tr>\n",
       "    <tr>\n",
       "      <th>6</th>\n",
       "      <td>34.917693</td>\n",
       "      <td>69.153212</td>\n",
       "    </tr>\n",
       "    <tr>\n",
       "      <th>7</th>\n",
       "      <td>49.077914</td>\n",
       "      <td>43.716421</td>\n",
       "    </tr>\n",
       "    <tr>\n",
       "      <th>8</th>\n",
       "      <td>37.269178</td>\n",
       "      <td>47.261134</td>\n",
       "    </tr>\n",
       "    <tr>\n",
       "      <th>9</th>\n",
       "      <td>38.398371</td>\n",
       "      <td>19.164837</td>\n",
       "    </tr>\n",
       "    <tr>\n",
       "      <th>10</th>\n",
       "      <td>49.778598</td>\n",
       "      <td>22.462775</td>\n",
       "    </tr>\n",
       "    <tr>\n",
       "      <th>11</th>\n",
       "      <td>27.595222</td>\n",
       "      <td>69.517371</td>\n",
       "    </tr>\n",
       "    <tr>\n",
       "      <th>12</th>\n",
       "      <td>73.980528</td>\n",
       "      <td>71.257526</td>\n",
       "    </tr>\n",
       "    <tr>\n",
       "      <th>13</th>\n",
       "      <td>32.740086</td>\n",
       "      <td>30.161252</td>\n",
       "    </tr>\n",
       "    <tr>\n",
       "      <th>14</th>\n",
       "      <td>42.745841</td>\n",
       "      <td>29.771465</td>\n",
       "    </tr>\n",
       "    <tr>\n",
       "      <th>15</th>\n",
       "      <td>59.110189</td>\n",
       "      <td>32.753619</td>\n",
       "    </tr>\n",
       "  </tbody>\n",
       "</table>\n",
       "</div>"
      ],
      "text/plain": [
       "            x_pos      y_pos\n",
       "tag_id                      \n",
       "1       60.999024  33.558495\n",
       "2       33.297036  38.402794\n",
       "3       37.952964  27.625767\n",
       "5       43.985519  37.714688\n",
       "6       34.917693  69.153212\n",
       "7       49.077914  43.716421\n",
       "8       37.269178  47.261134\n",
       "9       38.398371  19.164837\n",
       "10      49.778598  22.462775\n",
       "11      27.595222  69.517371\n",
       "12      73.980528  71.257526\n",
       "13      32.740086  30.161252\n",
       "14      42.745841  29.771465\n",
       "15      59.110189  32.753619"
      ]
     },
     "execution_count": 64,
     "metadata": {},
     "output_type": "execute_result"
    }
   ],
   "source": [
    "data_pos_mean"
   ]
  },
  {
   "cell_type": "markdown",
   "id": "primary-wagon",
   "metadata": {},
   "source": [
    "# a"
   ]
  },
  {
   "cell_type": "code",
   "execution_count": 67,
   "id": "forward-uruguay",
   "metadata": {},
   "outputs": [],
   "source": [
    "data_pos_mean = data.groupby(\"tag_id\").mean()[[\"x_pos\", \"y_pos\"]]"
   ]
  },
  {
   "cell_type": "code",
   "execution_count": 70,
   "id": "digital-stick",
   "metadata": {},
   "outputs": [],
   "source": [
    "data_pos_mean = data_pos_mean.reset_index()"
   ]
  },
  {
   "cell_type": "code",
   "execution_count": 94,
   "id": "lined-audio",
   "metadata": {},
   "outputs": [],
   "source": [
    "import matplotlib.pyplot as plt\n",
    "from matplotlib.patches import Rectangle\n",
    "\n",
    "def plot_background(plt):\n",
    "    rect1=Rectangle((0, 0), 105, 68, fill=True, color=\"green\", alpha=0.7,linewidth=2)\n",
    "    rect2=Rectangle((0, 17), 15, 34, fill=False, color=\"black\", alpha=0.5,linewidth=2)\n",
    "    rect3=Rectangle((105-15, 17), 15, 34, fill=False, color=\"black\", alpha=0.5,linewidth=2)\n",
    "\n",
    "    plt.gca().add_patch(rect1)\n",
    "    plt.gca().add_patch(rect2)\n",
    "    plt.gca().add_patch(rect3)\n",
    "\n",
    "    plt.plot([52.5, 52.5], [0,68], color=\"black\", alpha=0.5)\n",
    "    plt.plot([0, 105], [68, 68], color=\"black\")\n",
    "    plt.plot([0, 105], [0, 0], color=\"black\")\n",
    "    plt.plot([0, 0], [0, 68], color=\"black\")\n",
    "    plt.plot([105, 105], [0, 68], color=\"black\")\n"
   ]
  },
  {
   "cell_type": "code",
   "execution_count": 99,
   "id": "transparent-geneva",
   "metadata": {},
   "outputs": [
    {
     "data": {
      "image/png": "[encoded data removed]",
      "text/plain": [
       "<Figure size 432x288 with 1 Axes>"
      ]
     },
     "metadata": {
      "needs_background": "light"
     },
     "output_type": "display_data"
    }
   ],
   "source": [
    "\n",
    "# a.scatter(x=data_pos_mean[\"x_pos\"], y=data_pos_mean[\"y_pos\"], color=\"red\")\n",
    "\n",
    "fig, ax = plt.subplots()\n",
    "\n",
    "plot_background(plt)\n",
    "\n",
    "ax.scatter(x=data_pos_mean[\"x_pos\"], y=data_pos_mean[\"y_pos\"], color=\"red\", s=15)\n",
    "\n",
    "for i, item in data_pos_mean.iterrows():\n",
    "    ax.annotate(int(item[\"tag_id\"]), (item[\"x_pos\"]+1, item[\"y_pos\"]+1), fontsize=12)\n",
    "\n",
    "plt.show()"
   ]
  },
  {
   "cell_type": "code",
   "execution_count": null,
   "id": "loving-server",
   "metadata": {},
   "outputs": [],
   "source": []
  }
 ],
 "metadata": {
  "kernelspec": {
   "display_name": "Python 3",
   "language": "python",
   "name": "python3"
  },
  "language_info": {
   "codemirror_mode": {
    "name": "ipython",
    "version": 3
   },
   "file_extension": ".py",
   "mimetype": "text/x-python",
   "name": "python",
   "nbconvert_exporter": "python",
   "pygments_lexer": "ipython3",
   "version": "3.9.1"
  }
 },
 "nbformat": 4,
 "nbformat_minor": 5
}
